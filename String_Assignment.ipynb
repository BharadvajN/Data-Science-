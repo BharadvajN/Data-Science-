{
 "cells": [
  {
   "cell_type": "code",
   "execution_count": 1,
   "metadata": {},
   "outputs": [],
   "source": [
    "string_value = \" I am very keen in building up my career in Data Science, but not sure from where to start. If I search the web it throws me thousands of articles, few are relevant others make me confused, again I come around to the same page. Supervised has provided me a good platform to remove all such qualms which were wrangling in my mind\""
   ]
  },
  {
   "cell_type": "markdown",
   "metadata": {},
   "source": [
    "Consider the above text as a string, figure out the average length of the string."
   ]
  },
  {
   "cell_type": "code",
   "execution_count": 2,
   "metadata": {},
   "outputs": [
    {
     "name": "stdout",
     "output_type": "stream",
     "text": [
      "328\n",
      "Average Length of Strign is :  328.0\n"
     ]
    }
   ],
   "source": [
    "length = len(string_value)\n",
    "print(length)\n",
    "if length == 0:\n",
    "    print(\"Average Length of string is : \",i)\n",
    "else:\n",
    "    #If we have mutliple strings then we can divide it witht the count of strings.\n",
    "    average = length / 1\n",
    "    print(\"Average Length of Strign is : \",average)"
   ]
  },
  {
   "cell_type": "markdown",
   "metadata": {},
   "source": [
    "Lower the text in the string."
   ]
  },
  {
   "cell_type": "code",
   "execution_count": 4,
   "metadata": {},
   "outputs": [
    {
     "data": {
      "text/plain": [
       "' i am very keen in building up my career in data science, but not sure from where to start. if i search the web it throws me thousands of articles, few are relevant others make me confused, again i come around to the same page. supervised has provided me a good platform to remove all such qualms which were wrangling in my mind'"
      ]
     },
     "execution_count": 4,
     "metadata": {},
     "output_type": "execute_result"
    }
   ],
   "source": [
    "#Making string as lower case \n",
    "lower_string = string_value.lower()\n",
    "lower_string"
   ]
  },
  {
   "cell_type": "markdown",
   "metadata": {},
   "source": [
    "Try to get the clean text removing the punctuation from the string."
   ]
  },
  {
   "cell_type": "code",
   "execution_count": 6,
   "metadata": {},
   "outputs": [
    {
     "data": {
      "text/plain": [
       "' I am very keen in building up my career in Data Science but not sure from where to start If I search the web it throws me thousands of articles few are relevant others make me confused again I come around to the same page Supervised has provided me a good platform to remove all such qualms which were wrangling in my mind'"
      ]
     },
     "execution_count": 6,
     "metadata": {},
     "output_type": "execute_result"
    }
   ],
   "source": [
    "import string \n",
    "#Removing punctuation from the string.\n",
    "punc = string_value.translate(str.maketrans('', '', string.punctuation))\n",
    "punc"
   ]
  },
  {
   "cell_type": "markdown",
   "metadata": {},
   "source": [
    "Extract word \"Data Science\" from the string."
   ]
  },
  {
   "cell_type": "code",
   "execution_count": 8,
   "metadata": {},
   "outputs": [
    {
     "name": "stdout",
     "output_type": "stream",
     "text": [
      "Data Science\n"
     ]
    }
   ],
   "source": [
    "word = \"Data Science\"\n",
    "if word in string_value:\n",
    "    print(word)\n",
    "else:\n",
    "    print(\"Given Word is not matching\")"
   ]
  },
  {
   "cell_type": "markdown",
   "metadata": {},
   "source": [
    "Find the frequency of words used in the string."
   ]
  },
  {
   "cell_type": "code",
   "execution_count": 13,
   "metadata": {},
   "outputs": [],
   "source": [
    "string_value = \" I am very keen in building up my career in Data Science, but not sure from where to start. If I search the web it throws me thousands of articles, few are relevant others make me confused, again I come around to the same page. Supervised has provided me a good platform to remove all such qualms which were wrangling in my mind\""
   ]
  },
  {
   "cell_type": "code",
   "execution_count": 16,
   "metadata": {},
   "outputs": [
    {
     "data": {
      "text/plain": [
       "\"[('I', 3), ('am', 1), ('very', 1), ('keen', 1), ('in', 3), ('building', 1), ('up', 1), ('my', 2), ('career', 1), ('in', 3), ('Data', 1), ('Science,', 1), ('but', 1), ('not', 1), ('sure', 1), ('from', 1), ('where', 1), ('to', 3), ('start.', 1), ('If', 1), ('I', 3), ('search', 1), ('the', 2), ('web', 1), ('it', 1), ('throws', 1), ('me', 3), ('thousands', 1), ('of', 1), ('articles,', 1), ('few', 1), ('are', 1), ('relevant', 1), ('others', 1), ('make', 1), ('me', 3), ('confused,', 1), ('again', 1), ('I', 3), ('come', 1), ('around', 1), ('to', 3), ('the', 2), ('same', 1), ('page.', 1), ('Supervised', 1), ('has', 1), ('provided', 1), ('me', 3), ('a', 1), ('good', 1), ('platform', 1), ('to', 3), ('remove', 1), ('all', 1), ('such', 1), ('qualms', 1), ('which', 1), ('were', 1), ('wrangling', 1), ('in', 3), ('my', 2), ('mind', 1)]\""
      ]
     },
     "execution_count": 16,
     "metadata": {},
     "output_type": "execute_result"
    }
   ],
   "source": [
    "split_string_val = string_value.split()\n",
    "string_freq = []\n",
    "for i in split_string_val:\n",
    "    string_freq.append(split_string_val.count(i))\n",
    "str(list(zip(split_string_val,string_freq)))"
   ]
  },
  {
   "cell_type": "markdown",
   "metadata": {},
   "source": [
    "Fetch the duplicate pairs used in the string."
   ]
  },
  {
   "cell_type": "code",
   "execution_count": 19,
   "metadata": {},
   "outputs": [
    {
     "data": {
      "text/plain": [
       "{'I': 3,\n",
       " 'am': 1,\n",
       " 'very': 1,\n",
       " 'keen': 1,\n",
       " 'in': 3,\n",
       " 'building': 1,\n",
       " 'up': 1,\n",
       " 'my': 2,\n",
       " 'career': 1,\n",
       " 'Data': 1,\n",
       " 'Science,': 1,\n",
       " 'but': 1,\n",
       " 'not': 1,\n",
       " 'sure': 1,\n",
       " 'from': 1,\n",
       " 'where': 1,\n",
       " 'to': 3,\n",
       " 'start.': 1,\n",
       " 'If': 1,\n",
       " 'search': 1,\n",
       " 'the': 2,\n",
       " 'web': 1,\n",
       " 'it': 1,\n",
       " 'throws': 1,\n",
       " 'me': 3,\n",
       " 'thousands': 1,\n",
       " 'of': 1,\n",
       " 'articles,': 1,\n",
       " 'few': 1,\n",
       " 'are': 1,\n",
       " 'relevant': 1,\n",
       " 'others': 1,\n",
       " 'make': 1,\n",
       " 'confused,': 1,\n",
       " 'again': 1,\n",
       " 'come': 1,\n",
       " 'around': 1,\n",
       " 'same': 1,\n",
       " 'page.': 1,\n",
       " 'Supervised': 1,\n",
       " 'has': 1,\n",
       " 'provided': 1,\n",
       " 'a': 1,\n",
       " 'good': 1,\n",
       " 'platform': 1,\n",
       " 'remove': 1,\n",
       " 'all': 1,\n",
       " 'such': 1,\n",
       " 'qualms': 1,\n",
       " 'which': 1,\n",
       " 'were': 1,\n",
       " 'wrangling': 1,\n",
       " 'mind': 1}"
      ]
     },
     "execution_count": 19,
     "metadata": {},
     "output_type": "execute_result"
    }
   ],
   "source": [
    "word_occurances = dict()\n",
    "words = string_value.split()\n",
    "for word in words:\n",
    "    if word in word_occurances:\n",
    "        word_occurances[word] = word_occurances[word] + 1\n",
    "    else:\n",
    "        word_occurances[word] = 1\n",
    "        \n",
    "word_occurances\n",
    "    "
   ]
  },
  {
   "cell_type": "markdown",
   "metadata": {},
   "source": [
    "Can you change the word \"Supervised\" to \"Unsupervised\" in the string"
   ]
  },
  {
   "cell_type": "code",
   "execution_count": 21,
   "metadata": {},
   "outputs": [
    {
     "data": {
      "text/plain": [
       "' I am very keen in building up my career in Data Science, but not sure from where to start. If I search the web it throws me thousands of articles, few are relevant others make me confused, again I come around to the same page. Unsupervised has provided me a good platform to remove all such qualms which were wrangling in my mind'"
      ]
     },
     "execution_count": 21,
     "metadata": {},
     "output_type": "execute_result"
    }
   ],
   "source": [
    "string_value_replace = string_value.replace('Supervised','Unsupervised')\n",
    "string_value_replace"
   ]
  },
  {
   "cell_type": "markdown",
   "metadata": {},
   "source": [
    "Splitting of the string with a dot operator(.)"
   ]
  },
  {
   "cell_type": "code",
   "execution_count": 22,
   "metadata": {},
   "outputs": [
    {
     "data": {
      "text/plain": [
       "[' I am very keen in building up my career in Data Science, but not sure from where to start',\n",
       " ' If I search the web it throws me thousands of articles, few are relevant others make me confused, again I come around to the same page',\n",
       " ' Supervised has provided me a good platform to remove all such qualms which were wrangling in my mind']"
      ]
     },
     "execution_count": 22,
     "metadata": {},
     "output_type": "execute_result"
    }
   ],
   "source": [
    "string_value.split('.')"
   ]
  },
  {
   "cell_type": "markdown",
   "metadata": {},
   "source": [
    "Find the words from the string which ends with \"e\""
   ]
  },
  {
   "cell_type": "code",
   "execution_count": 25,
   "metadata": {},
   "outputs": [
    {
     "data": {
      "text/plain": [
       "['Science',\n",
       " 'sure',\n",
       " 'where',\n",
       " 'the',\n",
       " 'me',\n",
       " 'are',\n",
       " 'make',\n",
       " 'me',\n",
       " 'come',\n",
       " 'the',\n",
       " 'same',\n",
       " 'page',\n",
       " 'me',\n",
       " 'remove',\n",
       " 'were']"
      ]
     },
     "execution_count": 25,
     "metadata": {},
     "output_type": "execute_result"
    }
   ],
   "source": [
    "import re\n",
    "words = re.findall(r'\\b\\w+e\\b', string_value)\n",
    "words"
   ]
  },
  {
   "cell_type": "markdown",
   "metadata": {},
   "source": [
    "Figure out number of a's used in the string."
   ]
  },
  {
   "cell_type": "code",
   "execution_count": 26,
   "metadata": {},
   "outputs": [
    {
     "data": {
      "text/plain": [
       "22"
      ]
     },
     "execution_count": 26,
     "metadata": {},
     "output_type": "execute_result"
    }
   ],
   "source": [
    "string_value.count('a')"
   ]
  },
  {
   "cell_type": "code",
   "execution_count": null,
   "metadata": {},
   "outputs": [],
   "source": []
  }
 ],
 "metadata": {
  "kernelspec": {
   "display_name": "Python 3",
   "language": "python",
   "name": "python3"
  },
  "language_info": {
   "codemirror_mode": {
    "name": "ipython",
    "version": 3
   },
   "file_extension": ".py",
   "mimetype": "text/x-python",
   "name": "python",
   "nbconvert_exporter": "python",
   "pygments_lexer": "ipython3",
   "version": "3.7.4"
  }
 },
 "nbformat": 4,
 "nbformat_minor": 2
}
