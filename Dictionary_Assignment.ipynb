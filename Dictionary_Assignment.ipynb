{
 "cells": [
  {
   "cell_type": "markdown",
   "metadata": {},
   "source": [
    "In the weekend , I purchased 250g of apple, 500g of sugar, 2.5 kg of rice, 2.5 litres of milk and finally 1 dozen of egg.\n",
    "Can you help me frame the above purchase in the form of dictionary with commodities as keys to it."
   ]
  },
  {
   "cell_type": "code",
   "execution_count": 22,
   "metadata": {},
   "outputs": [],
   "source": [
    "weekend_purchased_dict = dict()\n",
    "weekend_purchased_dict['Apple'] = 0.25 #'250 Grms'\n",
    "weekend_purchased_dict['Suger'] = 0.5 #'500 Grms'\n",
    "weekend_purchased_dict['Rice'] = 2.5 #'2.5 Kgs'\n",
    "weekend_purchased_dict['Milk'] = 2.5 #'2.5 liters'\n",
    "weekend_purchased_dict['Egg'] = 1 #'1 Dozen'"
   ]
  },
  {
   "cell_type": "code",
   "execution_count": 23,
   "metadata": {},
   "outputs": [
    {
     "data": {
      "text/plain": [
       "{'Apple': 0.25, 'Suger': 0.5, 'Rice': 2.5, 'Milk': 2.5, 'Egg': 1}"
      ]
     },
     "execution_count": 23,
     "metadata": {},
     "output_type": "execute_result"
    }
   ],
   "source": [
    "weekend_purchased_dict"
   ]
  },
  {
   "cell_type": "markdown",
   "metadata": {},
   "source": [
    "I forgot to mention another item, 1kg of atta packet. Can you also add it ?"
   ]
  },
  {
   "cell_type": "code",
   "execution_count": 24,
   "metadata": {},
   "outputs": [
    {
     "data": {
      "text/plain": [
       "{'Apple': 0.25, 'Suger': 0.5, 'Rice': 2.5, 'Milk': 2.5, 'Egg': 1, 'Aata': 1}"
      ]
     },
     "execution_count": 24,
     "metadata": {},
     "output_type": "execute_result"
    }
   ],
   "source": [
    "weekend_purchased_dict['Aata'] = 1 #'1 KG'\n",
    "\n",
    "weekend_purchased_dict"
   ]
  },
  {
   "cell_type": "markdown",
   "metadata": {},
   "source": [
    "Instead of 2kg of rice, I bought only 1kg of rice. Can you change the corresponding value ?"
   ]
  },
  {
   "cell_type": "code",
   "execution_count": 25,
   "metadata": {},
   "outputs": [
    {
     "data": {
      "text/plain": [
       "{'Apple': 0.25, 'Suger': 0.5, 'Rice': 1, 'Milk': 2.5, 'Egg': 1, 'Aata': 1}"
      ]
     },
     "execution_count": 25,
     "metadata": {},
     "output_type": "execute_result"
    }
   ],
   "source": [
    "weekend_purchased_dict['Rice'] = 1 # '1 KG'\n",
    "\n",
    "weekend_purchased_dict"
   ]
  },
  {
   "cell_type": "markdown",
   "metadata": {},
   "source": [
    "Can you list out all these items using a loop."
   ]
  },
  {
   "cell_type": "code",
   "execution_count": 26,
   "metadata": {},
   "outputs": [
    {
     "name": "stdout",
     "output_type": "stream",
     "text": [
      "('Apple', 0.25)\n",
      "('Suger', 0.5)\n",
      "('Rice', 1)\n",
      "('Milk', 2.5)\n",
      "('Egg', 1)\n",
      "('Aata', 1)\n",
      "--------------------\n",
      "Another Way  \n",
      "--------------------\n",
      "Apple 0.25\n",
      "Suger 0.5\n",
      "Rice 1\n",
      "Milk 2.5\n",
      "Egg 1\n",
      "Aata 1\n"
     ]
    }
   ],
   "source": [
    "for items in weekend_purchased_dict.items():\n",
    "    print(items)\n",
    "\n",
    "print('-'*20)\n",
    "print(\"Another Way  \")\n",
    "print('-'*20)\n",
    "for key,values in weekend_purchased_dict.items():\n",
    "    print(key,values)"
   ]
  },
  {
   "cell_type": "markdown",
   "metadata": {},
   "source": [
    "However, the cost of 1 kg apple is Rs.220, 1 kg of sugar is Rs.43, 1 Kg of rice is Rs. 45, 1 litre of milk is Rs.30 and 1 dozen of egg is Rs. 60."
   ]
  },
  {
   "cell_type": "code",
   "execution_count": 27,
   "metadata": {},
   "outputs": [],
   "source": [
    "cost_details = dict()\n",
    "\n",
    "cost_details['Apple'] = 220\n",
    "cost_details['Suger'] = 43\n",
    "cost_details['Rice'] = 45\n",
    "cost_details['Milk'] = 30\n",
    "cost_details['Egg'] = 60"
   ]
  },
  {
   "cell_type": "code",
   "execution_count": 28,
   "metadata": {},
   "outputs": [
    {
     "data": {
      "text/plain": [
       "{'Apple': 220, 'Suger': 43, 'Rice': 45, 'Milk': 30, 'Egg': 60}"
      ]
     },
     "execution_count": 28,
     "metadata": {},
     "output_type": "execute_result"
    }
   ],
   "source": [
    "cost_details"
   ]
  },
  {
   "cell_type": "code",
   "execution_count": 29,
   "metadata": {},
   "outputs": [],
   "source": [
    "bill_dict = dict()\n",
    "\n",
    "bill_dict['Apple'] = weekend_purchased_dict['Apple'] * cost_details['Apple']\n",
    "bill_dict['Suger'] = weekend_purchased_dict['Suger'] * cost_details['Suger']\n",
    "bill_dict['Rice'] = weekend_purchased_dict['Rice'] * cost_details['Rice']\n",
    "bill_dict['Milk'] = weekend_purchased_dict['Milk'] * cost_details['Milk']\n",
    "bill_dict['Egg'] = weekend_purchased_dict['Egg'] * cost_details['Egg']"
   ]
  },
  {
   "cell_type": "code",
   "execution_count": 38,
   "metadata": {},
   "outputs": [
    {
     "name": "stdout",
     "output_type": "stream",
     "text": [
      "Apple 55.0\n",
      "Suger 21.5\n",
      "Rice 45\n",
      "Milk 75.0\n",
      "Egg 60\n",
      "Total Amount to Pay:  256.5\n"
     ]
    }
   ],
   "source": [
    "for key,values in bill_dict.items():\n",
    "    print(key,values)\n",
    "\n",
    "print('Total Amount to Pay: ',sum(bill_dict.values()))"
   ]
  }
 ],
 "metadata": {
  "kernelspec": {
   "display_name": "Python 3",
   "language": "python",
   "name": "python3"
  },
  "language_info": {
   "codemirror_mode": {
    "name": "ipython",
    "version": 3
   },
   "file_extension": ".py",
   "mimetype": "text/x-python",
   "name": "python",
   "nbconvert_exporter": "python",
   "pygments_lexer": "ipython3",
   "version": "3.7.4"
  }
 },
 "nbformat": 4,
 "nbformat_minor": 2
}
